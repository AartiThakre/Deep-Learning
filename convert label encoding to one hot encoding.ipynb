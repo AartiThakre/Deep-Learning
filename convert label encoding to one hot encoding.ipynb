{
 "cells": [
  {
   "cell_type": "code",
   "execution_count": 1,
   "id": "db4e819e-2c6d-4e96-b6a5-574e14919851",
   "metadata": {},
   "outputs": [],
   "source": [
    "import matplotlib.pyplot as plt\n",
    "import numpy as np\n",
    "import PIL\n",
    "import tensorflow as tf\n",
    "\n",
    "from tensorflow import keras\n",
    "from tensorflow.keras import layers\n",
    "from tensorflow.keras.models import Sequential\n",
    "from tensorflow.keras.utils import to_categorical"
   ]
  },
  {
   "cell_type": "code",
   "execution_count": 2,
   "id": "8730368e-9568-44e0-9083-36da4915cbe8",
   "metadata": {},
   "outputs": [],
   "source": [
    "import pathlib\n",
    "\n",
    "dataset_url = \"https://storage.googleapis.com/download.tensorflow.org/example_images/flower_photos.tgz\" # tar ball\n",
    "data_dir = tf.keras.utils.get_file(\"flower_photos.tar\", origin=dataset_url, extract=True)\n",
    "data_dir = pathlib.Path(data_dir).with_suffix(\"\")"
   ]
  },
  {
   "cell_type": "code",
   "execution_count": 3,
   "id": "b2b896e4-9543-4ddf-b290-bc98aa9bdcfc",
   "metadata": {},
   "outputs": [
    {
     "data": {
      "text/plain": [
       "WindowsPath('C:/Users/HP/.keras/datasets/flower_photos')"
      ]
     },
     "execution_count": 3,
     "metadata": {},
     "output_type": "execute_result"
    }
   ],
   "source": [
    "data_dir"
   ]
  },
  {
   "cell_type": "code",
   "execution_count": 4,
   "id": "6c02010d-49fe-48fd-885f-d8ee009b0966",
   "metadata": {},
   "outputs": [
    {
     "name": "stdout",
     "output_type": "stream",
     "text": [
      "3670\n"
     ]
    }
   ],
   "source": [
    "import glob\n",
    "image_count = len(list(data_dir.glob('*/*.jpg')))\n",
    "print(image_count)"
   ]
  },
  {
   "cell_type": "code",
   "execution_count": 5,
   "id": "4956e1da-c24a-4254-97fb-3b78eedbc3e1",
   "metadata": {},
   "outputs": [
    {
     "data": {
      "text/plain": [
       "[WindowsPath('C:/Users/HP/.keras/datasets/flower_photos/daisy'),\n",
       " WindowsPath('C:/Users/HP/.keras/datasets/flower_photos/dandelion'),\n",
       " WindowsPath('C:/Users/HP/.keras/datasets/flower_photos/LICENSE.txt'),\n",
       " WindowsPath('C:/Users/HP/.keras/datasets/flower_photos/roses'),\n",
       " WindowsPath('C:/Users/HP/.keras/datasets/flower_photos/sunflowers'),\n",
       " WindowsPath('C:/Users/HP/.keras/datasets/flower_photos/tulips')]"
      ]
     },
     "execution_count": 5,
     "metadata": {},
     "output_type": "execute_result"
    }
   ],
   "source": [
    "list(data_dir.glob('*'))"
   ]
  },
  {
   "cell_type": "code",
   "execution_count": 6,
   "id": "861abed0-271a-4c54-bbe0-06ae61a3cab0",
   "metadata": {},
   "outputs": [
    {
     "data": {
      "text/plain": [
       "[WindowsPath('C:/Users/HP/.keras/datasets/flower_photos/daisy')]"
      ]
     },
     "execution_count": 6,
     "metadata": {},
     "output_type": "execute_result"
    }
   ],
   "source": [
    "list(data_dir.glob('daisy'))"
   ]
  },
  {
   "cell_type": "code",
   "execution_count": 7,
   "id": "149547e3-6a5b-43a0-b9b7-0dda5451b9dd",
   "metadata": {},
   "outputs": [
    {
     "data": {
      "text/plain": [
       "3670"
      ]
     },
     "execution_count": 7,
     "metadata": {},
     "output_type": "execute_result"
    }
   ],
   "source": [
    "len(list(data_dir.glob('*/*')))"
   ]
  },
  {
   "cell_type": "code",
   "execution_count": 8,
   "id": "f6040b57-6a59-4bd9-a61e-daef0827660b",
   "metadata": {},
   "outputs": [
    {
     "data": {
      "text/plain": [
       "3670"
      ]
     },
     "execution_count": 8,
     "metadata": {},
     "output_type": "execute_result"
    }
   ],
   "source": [
    "len(list(data_dir.glob('*/*.jpg')))"
   ]
  },
  {
   "cell_type": "code",
   "execution_count": 9,
   "id": "983ae165-49d4-4d33-8a27-378fa812a94f",
   "metadata": {},
   "outputs": [],
   "source": [
    "import os"
   ]
  },
  {
   "cell_type": "code",
   "execution_count": 10,
   "id": "836e1610-eeda-40be-a72f-443325e39253",
   "metadata": {},
   "outputs": [
    {
     "data": {
      "text/plain": [
       "['daisy', 'dandelion', 'LICENSE.txt', 'roses', 'sunflowers', 'tulips']"
      ]
     },
     "execution_count": 10,
     "metadata": {},
     "output_type": "execute_result"
    }
   ],
   "source": [
    "os.listdir(\"C:/Users/HP/.keras/datasets/flower_photos\")"
   ]
  },
  {
   "cell_type": "code",
   "execution_count": 11,
   "id": "94e7e76b-34c6-4c1b-865b-32f20401e1c9",
   "metadata": {},
   "outputs": [],
   "source": [
    "from tensorflow.keras.preprocessing import image_dataset_from_directory"
   ]
  },
  {
   "cell_type": "code",
   "execution_count": 20,
   "id": "3f87e249-a3bc-46b8-ac54-95e5ea18e9d9",
   "metadata": {},
   "outputs": [
    {
     "name": "stdout",
     "output_type": "stream",
     "text": [
      "Found 3670 files belonging to 5 classes.\n",
      "Using 2936 files for training.\n"
     ]
    }
   ],
   "source": [
    "train_dataset = image_dataset_from_directory(\n",
    "    data_dir, \n",
    "    validation_split=0.2, \n",
    "    subset=\"training\", seed=123, \n",
    "    image_size=(150, 150), \n",
    "    batch_size=32,\n",
    "    label_mode='categorical'\n",
    ")"
   ]
  },
  {
   "cell_type": "code",
   "execution_count": 21,
   "id": "66cdfca7-665c-42fb-b00e-c076b39d7c35",
   "metadata": {},
   "outputs": [
    {
     "name": "stdout",
     "output_type": "stream",
     "text": [
      "Found 3670 files belonging to 5 classes.\n",
      "Using 734 files for validation.\n"
     ]
    }
   ],
   "source": [
    "validation_dataset = image_dataset_from_directory( \n",
    "    data_dir, \n",
    "    validation_split=0.2,\n",
    "    subset=\"validation\", \n",
    "    seed=123, \n",
    "    image_size=(150, 150),\n",
    "    batch_size=32,\n",
    "    label_mode='categorical'\n",
    ")"
   ]
  },
  {
   "cell_type": "code",
   "execution_count": 23,
   "id": "55d2adb1-cc08-4080-991c-80690412f0de",
   "metadata": {},
   "outputs": [
    {
     "name": "stdout",
     "output_type": "stream",
     "text": [
      "Label batch shape: (32, 5)\n",
      "Labels: tf.Tensor(\n",
      "[[0. 0. 1. 0. 0.]\n",
      " [0. 1. 0. 0. 0.]\n",
      " [0. 0. 0. 0. 1.]\n",
      " [0. 0. 0. 1. 0.]\n",
      " [0. 1. 0. 0. 0.]\n",
      " [0. 0. 1. 0. 0.]\n",
      " [0. 1. 0. 0. 0.]\n",
      " [0. 0. 1. 0. 0.]\n",
      " [0. 0. 0. 0. 1.]\n",
      " [0. 1. 0. 0. 0.]\n",
      " [0. 0. 0. 0. 1.]\n",
      " [0. 0. 0. 0. 1.]\n",
      " [0. 0. 0. 1. 0.]\n",
      " [0. 0. 0. 0. 1.]\n",
      " [0. 1. 0. 0. 0.]\n",
      " [0. 0. 1. 0. 0.]\n",
      " [1. 0. 0. 0. 0.]\n",
      " [0. 0. 0. 0. 1.]\n",
      " [0. 1. 0. 0. 0.]\n",
      " [0. 1. 0. 0. 0.]\n",
      " [0. 1. 0. 0. 0.]\n",
      " [0. 0. 0. 0. 1.]\n",
      " [0. 0. 0. 1. 0.]\n",
      " [0. 0. 1. 0. 0.]\n",
      " [0. 0. 0. 1. 0.]\n",
      " [0. 1. 0. 0. 0.]\n",
      " [0. 0. 0. 0. 1.]\n",
      " [0. 0. 1. 0. 0.]\n",
      " [0. 0. 1. 0. 0.]\n",
      " [0. 0. 0. 1. 0.]\n",
      " [0. 0. 0. 0. 1.]\n",
      " [0. 0. 0. 1. 0.]], shape=(32, 5), dtype=float32)\n"
     ]
    }
   ],
   "source": [
    "# to check wether data is onehotencoded or not\n",
    "for images, labels in train_dataset.take(1): \n",
    "    (\"Image batch shape:\", images.shape)\n",
    "    print(\"Label batch shape:\", labels.shape) \n",
    "    print(\"Labels:\", labels)"
   ]
  },
  {
   "cell_type": "code",
   "execution_count": 24,
   "id": "55b7b9c4-f6d1-4bef-a0bd-676841bb7c71",
   "metadata": {},
   "outputs": [],
   "source": [
    "AUTOTUNE = tf.data.AUTOTUNE\n",
    "train_dataset = train_dataset.cache().shuffle(1000).prefetch(buffer_size=AUTOTUNE) \n",
    "validation_dataset = validation_dataset.cache().prefetch(buffer_size=AUTOTUNE)"
   ]
  },
  {
   "cell_type": "code",
   "execution_count": 25,
   "id": "18e9c972-5751-438c-8196-9242a22f96f8",
   "metadata": {},
   "outputs": [],
   "source": [
    "model = tf.keras.Sequential([\n",
    "    tf.keras.layers.Conv2D(32, (3, 3), activation='relu', input_shape=(150, 150, 3)),\n",
    "    tf.keras.layers.MaxPooling2D(2, 2), \n",
    "    tf.keras.layers.Conv2D(64, (3, 3), activation='relu'),\n",
    "    tf.keras.layers.MaxPooling2D(2, 2), tf.keras.layers.Flatten(), \n",
    "    tf.keras.layers.Dense(128, activation='relu'), \n",
    "    tf.keras.layers.Dense(len(class_names), activation='softmax') ])"
   ]
  },
  {
   "cell_type": "code",
   "execution_count": 26,
   "id": "2ee64157-9a59-4d00-b30b-888da793b4e7",
   "metadata": {},
   "outputs": [
    {
     "name": "stdout",
     "output_type": "stream",
     "text": [
      "Model: \"sequential_1\"\n",
      "_________________________________________________________________\n",
      " Layer (type)                Output Shape              Param #   \n",
      "=================================================================\n",
      " conv2d_2 (Conv2D)           (None, 148, 148, 32)      896       \n",
      "                                                                 \n",
      " max_pooling2d_2 (MaxPooling  (None, 74, 74, 32)       0         \n",
      " 2D)                                                             \n",
      "                                                                 \n",
      " conv2d_3 (Conv2D)           (None, 72, 72, 64)        18496     \n",
      "                                                                 \n",
      " max_pooling2d_3 (MaxPooling  (None, 36, 36, 64)       0         \n",
      " 2D)                                                             \n",
      "                                                                 \n",
      " flatten_1 (Flatten)         (None, 82944)             0         \n",
      "                                                                 \n",
      " dense_2 (Dense)             (None, 128)               10616960  \n",
      "                                                                 \n",
      " dense_3 (Dense)             (None, 5)                 645       \n",
      "                                                                 \n",
      "=================================================================\n",
      "Total params: 10,636,997\n",
      "Trainable params: 10,636,997\n",
      "Non-trainable params: 0\n",
      "_________________________________________________________________\n"
     ]
    }
   ],
   "source": [
    "model.summary()"
   ]
  },
  {
   "cell_type": "code",
   "execution_count": 27,
   "id": "49868828-089c-489f-8c23-7bcb8bb9d30b",
   "metadata": {},
   "outputs": [],
   "source": [
    "model.compile( optimizer='adam', \n",
    "              loss='categorical_crossentropy', \n",
    "              metrics=['accuracy'] )"
   ]
  },
  {
   "cell_type": "code",
   "execution_count": 28,
   "id": "4230d138-9370-4738-9f3b-0f4458aff7f9",
   "metadata": {},
   "outputs": [
    {
     "name": "stdout",
     "output_type": "stream",
     "text": [
      "Epoch 1/10\n",
      "92/92 [==============================] - 44s 445ms/step - loss: 86.0700 - accuracy: 0.2888 - val_loss: 1.6813 - val_accuracy: 0.3420\n",
      "Epoch 2/10\n",
      "92/92 [==============================] - 41s 449ms/step - loss: 1.3276 - accuracy: 0.4819 - val_loss: 1.5229 - val_accuracy: 0.3542\n",
      "Epoch 3/10\n",
      "92/92 [==============================] - 40s 440ms/step - loss: 1.0448 - accuracy: 0.6192 - val_loss: 1.5546 - val_accuracy: 0.4114\n",
      "Epoch 4/10\n",
      "92/92 [==============================] - 40s 434ms/step - loss: 0.6943 - accuracy: 0.7640 - val_loss: 2.1073 - val_accuracy: 0.3542\n",
      "Epoch 5/10\n",
      "92/92 [==============================] - 38s 416ms/step - loss: 0.4885 - accuracy: 0.8478 - val_loss: 2.8769 - val_accuracy: 0.4292\n",
      "Epoch 6/10\n",
      "92/92 [==============================] - 38s 418ms/step - loss: 0.3309 - accuracy: 0.9125 - val_loss: 3.4524 - val_accuracy: 0.4114\n",
      "Epoch 7/10\n",
      "92/92 [==============================] - 38s 413ms/step - loss: 0.3054 - accuracy: 0.9210 - val_loss: 3.5465 - val_accuracy: 0.3896\n",
      "Epoch 8/10\n",
      "92/92 [==============================] - 39s 428ms/step - loss: 0.2543 - accuracy: 0.9339 - val_loss: 3.5505 - val_accuracy: 0.3733\n",
      "Epoch 9/10\n",
      "92/92 [==============================] - 39s 420ms/step - loss: 0.1874 - accuracy: 0.9489 - val_loss: 3.8408 - val_accuracy: 0.4210\n",
      "Epoch 10/10\n",
      "92/92 [==============================] - 38s 417ms/step - loss: 0.1784 - accuracy: 0.9615 - val_loss: 4.3065 - val_accuracy: 0.3951\n"
     ]
    }
   ],
   "source": [
    "history = model.fit(\n",
    "    train_dataset, \n",
    "    epochs=10, \n",
    "    validation_data=validation_dataset, \n",
    "    verbose=1 )"
   ]
  },
  {
   "cell_type": "code",
   "execution_count": 29,
   "id": "564e1d20-fd2d-4c0f-ba46-0c8a2830bbb3",
   "metadata": {},
   "outputs": [
    {
     "data": {
      "image/png": "[encoded data removed]",
      "text/plain": [
       "<Figure size 800x400 with 2 Axes>"
      ]
     },
     "metadata": {},
     "output_type": "display_data"
    }
   ],
   "source": [
    "acc = history.history['accuracy']\n",
    "val_acc = history.history['val_accuracy']\n",
    "\n",
    "loss = history.history['loss']\n",
    "val_loss = history.history['val_loss']\n",
    "\n",
    "epochs_range = range(10)\n",
    "\n",
    "plt.figure(figsize=(8, 4))\n",
    "plt.subplot(1, 2, 1)\n",
    "plt.plot(epochs_range, acc, label='Training Accuracy')\n",
    "plt.plot(epochs_range, val_acc, label='Validation Accuracy')\n",
    "plt.legend(loc='lower right')\n",
    "plt.title('Training and Validation Accuracy')\n",
    "\n",
    "plt.subplot(1, 2, 2)\n",
    "plt.plot(epochs_range, loss, label='Training Loss')\n",
    "plt.plot(epochs_range, val_loss, label='Validation Loss')\n",
    "plt.legend(loc='upper right')\n",
    "plt.title('Training and Validation Loss')\n",
    "plt.show()"
   ]
  },
  {
   "cell_type": "code",
   "execution_count": null,
   "id": "cfdd6b29-efd7-4aa2-8fed-ab34ef1af5c4",
   "metadata": {},
   "outputs": [],
   "source": []
  }
 ],
 "metadata": {
  "kernelspec": {
   "display_name": "Python 3 (ipykernel)",
   "language": "python",
   "name": "python3"
  },
  "language_info": {
   "codemirror_mode": {
    "name": "ipython",
    "version": 3
   },
   "file_extension": ".py",
   "mimetype": "text/x-python",
   "name": "python",
   "nbconvert_exporter": "python",
   "pygments_lexer": "ipython3",
   "version": "3.8.20"
  }
 },
 "nbformat": 4,
 "nbformat_minor": 5
}
